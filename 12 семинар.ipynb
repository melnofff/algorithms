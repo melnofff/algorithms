{
 "cells": [
  {
   "cell_type": "markdown",
   "id": "39be1d25",
   "metadata": {},
   "source": [
    "При помощи стека (можно использовать любую реализацию стека, например, из лекции) проверить, что в строке, содержащей большой фрагмент кода на python, корректно открываются и закрываются скобки '(' и ')'. Заводить какие-либо счетчики и вообще вести подсчет скобок запрещено. \n",
    "Например, в следующей строке корректное количество скобок: \n",
    "'((dsasdas((das(d)das)d)asd)da)' \n",
    "А вот в следующей закрывающих больше, чем открывающих:\n",
    "'(f(gfhd((hgfdg((fghh)dads)das))ds)adddads())))' \n"
   ]
  },
  {
   "cell_type": "code",
   "execution_count": 1,
   "id": "303e84e4",
   "metadata": {},
   "outputs": [
    {
     "name": "stdout",
     "output_type": "stream",
     "text": [
      "True\n",
      "False\n"
     ]
    }
   ],
   "source": [
    "class Stack:\n",
    "    def __init__(self):\n",
    "        self.stack = []\n",
    "\n",
    "    def push(self, item):\n",
    "        self.stack.append(item)\n",
    "\n",
    "    def pop(self):\n",
    "        return self.stack.pop()\n",
    "\n",
    "    def is_empty(self):\n",
    "        return len(self.stack) == 0\n",
    "\n",
    "def check_brackets(input_string):\n",
    "    stack = Stack()\n",
    "    brackets = {'(': ')'}\n",
    "\n",
    "    for char in input_string:\n",
    "        if char in brackets:\n",
    "            stack.push(char)\n",
    "        elif char == ')':\n",
    "            if stack.is_empty() or brackets[stack.pop()] != char:\n",
    "                return False\n",
    "    \n",
    "    return stack.is_empty()\n",
    "\n",
    "# Пример использования\n",
    "input_string1 = '((dsasdas((das(d)das)d)asd)da)'\n",
    "input_string2 = '(f(gfhd((hgfdg((fghh)dads)das))ds)adddads())))'\n",
    "\n",
    "print(check_brackets(input_string1))  # Вывод: True\n",
    "print(check_brackets(input_string2))  # Вывод: False\n"
   ]
  },
  {
   "cell_type": "markdown",
   "id": "55f80091",
   "metadata": {},
   "source": [
    "2) С помощью списка (list) реализовать стек. При создании стека нужно передать максимальную длину стека. В случае попытки добавления элемента, приводящего к превышению емкости стека возвращать ошибку. \n",
    "Стек должен поддерживать следующие операции: \n",
    "S.push(e): добавление элемента e на вершину стека S. \n",
    "S.pop(): удаляет и возвращает верхний элемент стека S. Если стек пуст, то возникает ошибка. \n",
    "S.top(): возвращает верхний элемент стека S, не удаляя его. Если стек пуст, то возникает ошибка. \n",
    "S.is_empty( ): возвращает True если стек S не содержит ни одного элемента. \n",
    "len(S): возвращает текущеее количество элементов в стеке S. \n"
   ]
  },
  {
   "cell_type": "code",
   "execution_count": 2,
   "id": "75f05207",
   "metadata": {},
   "outputs": [
    {
     "name": "stdout",
     "output_type": "stream",
     "text": [
      "3\n",
      "3\n",
      "2\n",
      "2\n"
     ]
    }
   ],
   "source": [
    "class Stack:\n",
    "    def __init__(self, capacity):\n",
    "        self.stack = []\n",
    "        self.capacity = capacity\n",
    "\n",
    "    def push(self, element):\n",
    "        if len(self.stack) < self.capacity:\n",
    "            self.stack.append(element)\n",
    "        else:\n",
    "            raise ValueError(\"Stack overflow\")\n",
    "\n",
    "    def pop(self):\n",
    "        if self.is_empty():\n",
    "            raise ValueError(\"Stack is empty\")\n",
    "        return self.stack.pop()\n",
    "\n",
    "    def top(self):\n",
    "        if self.is_empty():\n",
    "            raise ValueError(\"Stack is empty\")\n",
    "        return self.stack[-1]\n",
    "\n",
    "    def is_empty(self):\n",
    "        return len(self.stack) == 0\n",
    "\n",
    "    def __len__(self):\n",
    "        return len(self.stack)\n",
    "\n",
    "# Пример использования\n",
    "stack = Stack(5)\n",
    "\n",
    "stack.push(1)\n",
    "stack.push(2)\n",
    "stack.push(3)\n",
    "print(stack.top())    # Вывод: 3\n",
    "print(len(stack))      # Вывод: 3\n",
    "\n",
    "stack.pop()\n",
    "print(stack.top())    # Вывод: 2\n",
    "print(len(stack))      # Вывод: 2\n",
    "\n",
    "stack.push(4)\n",
    "stack.push(5)"
   ]
  },
  {
   "cell_type": "markdown",
   "id": "1f33d19b",
   "metadata": {},
   "source": [
    "3) Реализовать класс однонаправленного связанного списка.  \n",
    "\n",
    "3.1) Реализовать метод добавления элемента в начало списка.  \n"
   ]
  },
  {
   "cell_type": "code",
   "execution_count": 4,
   "id": "eceb77bb",
   "metadata": {},
   "outputs": [
    {
     "name": "stdout",
     "output_type": "stream",
     "text": [
      "1 2 3 \n"
     ]
    }
   ],
   "source": [
    "class Node:\n",
    "    def __init__(self, data=None):\n",
    "        self.data = data\n",
    "        self.next = None\n",
    "\n",
    "class SinglyLinkedList:\n",
    "    def __init__(self):\n",
    "        self.head = None\n",
    "\n",
    "    def add_at_beginning(self, data):\n",
    "        new_node = Node(data)\n",
    "        new_node.next = self.head\n",
    "        self.head = new_node\n",
    "\n",
    "    def display(self):\n",
    "        current = self.head\n",
    "        while current:\n",
    "            print(current.data, end=\" \")\n",
    "            current = current.next\n",
    "        print()\n",
    "\n",
    "# Пример использования\n",
    "sll = SinglyLinkedList()\n",
    "sll.add_at_beginning(3)\n",
    "sll.add_at_beginning(2)\n",
    "sll.add_at_beginning(1)\n",
    "\n",
    "sll.display()  # Вывод: 1 2 3\n"
   ]
  },
  {
   "cell_type": "markdown",
   "id": "e968fe2f",
   "metadata": {},
   "source": [
    "4) На базе класса однонаправленного связанного списка реализовать двунаправленный связанный список.  \n",
    "\n",
    "4.1) Реализовать метод добавления элемента в начало списка.  \n"
   ]
  },
  {
   "cell_type": "code",
   "execution_count": null,
   "id": "f8717e32",
   "metadata": {},
   "outputs": [],
   "source": []
  }
 ],
 "metadata": {
  "kernelspec": {
   "display_name": "Python 3 (ipykernel)",
   "language": "python",
   "name": "python3"
  },
  "language_info": {
   "codemirror_mode": {
    "name": "ipython",
    "version": 3
   },
   "file_extension": ".py",
   "mimetype": "text/x-python",
   "name": "python",
   "nbconvert_exporter": "python",
   "pygments_lexer": "ipython3",
   "version": "3.11.5"
  }
 },
 "nbformat": 4,
 "nbformat_minor": 5
}
