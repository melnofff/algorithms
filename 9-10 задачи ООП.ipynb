{
 "cells": [
  {
   "cell_type": "markdown",
   "id": "c0dfb459",
   "metadata": {},
   "source": [
    "Задача 1. \n",
    "Создать класс «Студент» и реализовать методы для установки и получения имени студента.\n"
   ]
  },
  {
   "cell_type": "code",
   "execution_count": 1,
   "id": "93bbc0bd",
   "metadata": {},
   "outputs": [
    {
     "name": "stdout",
     "output_type": "stream",
     "text": [
      "Имя студента 1: Иванов\n",
      "Имя студента 2: Петров\n"
     ]
    }
   ],
   "source": [
    "class Student:\n",
    "    def __init__(self):\n",
    "        self.name = \"\"\n",
    "\n",
    "    def set_name(self, name):\n",
    "        self.name = name\n",
    "\n",
    "    def get_name(self):\n",
    "        return self.name\n",
    "\n",
    "# Пример использования класса \"Студент\"\n",
    "student1 = Student()\n",
    "student1.set_name(\"Иванов\")\n",
    "print(\"Имя студента 1:\", student1.get_name())\n",
    "\n",
    "student2 = Student()\n",
    "student2.set_name(\"Петров\")\n",
    "print(\"Имя студента 2:\", student2.get_name())\n"
   ]
  },
  {
   "cell_type": "markdown",
   "id": "c0ba02b7",
   "metadata": {},
   "source": [
    "Задача 2. \n",
    "Создать класс «Товар» с методами для установки и получения цены товара.\n"
   ]
  },
  {
   "cell_type": "code",
   "execution_count": 2,
   "id": "900159a7",
   "metadata": {},
   "outputs": [
    {
     "name": "stdout",
     "output_type": "stream",
     "text": [
      "Цена товара 1: 100\n",
      "Цена товара 2: 200\n"
     ]
    }
   ],
   "source": [
    "class Product:\n",
    "    def __init__(self):\n",
    "        self.price = 0\n",
    "\n",
    "    def set_price(self, price):\n",
    "        self.price = price\n",
    "\n",
    "    def get_price(self):\n",
    "        return self.price\n",
    "\n",
    "# Пример использования класса \"Товар\"\n",
    "product1 = Product()\n",
    "product1.set_price(100)\n",
    "print(\"Цена товара 1:\", product1.get_price())\n",
    "\n",
    "product2 = Product()\n",
    "product2.set_price(200)\n",
    "print(\"Цена товара 2:\", product2.get_price())\n"
   ]
  },
  {
   "cell_type": "markdown",
   "id": "803df771",
   "metadata": {},
   "source": [
    "Задача 3. \n",
    "Создать класс «Калькулятор» с методами для выполнения простых математических операций: сложение, вычитание, умножение и деление.\n"
   ]
  },
  {
   "cell_type": "code",
   "execution_count": 3,
   "id": "e1199b16",
   "metadata": {},
   "outputs": [
    {
     "name": "stdout",
     "output_type": "stream",
     "text": [
      "Сумма: 8\n",
      "Разность: 6\n",
      "Произведение: 42\n",
      "Частное: 4.0\n",
      "Попытка деления на ноль: На ноль делить нельзя.\n"
     ]
    }
   ],
   "source": [
    "class Calculator:\n",
    "    def add(self, x, y):\n",
    "        return x + y\n",
    "\n",
    "    def subtract(self, x, y):\n",
    "        return x - y\n",
    "\n",
    "    def multiply(self, x, y):\n",
    "        return x * y\n",
    "\n",
    "    def divide(self, x, y):\n",
    "        if y != 0:\n",
    "            return x / y\n",
    "        else:\n",
    "            return \"На ноль делить нельзя.\"\n",
    "\n",
    "# Пример использования класса \"Калькулятор\"\n",
    "calculator = Calculator()\n",
    "\n",
    "result_addition = calculator.add(5, 3)\n",
    "print(\"Сумма:\", result_addition)\n",
    "\n",
    "result_subtraction = calculator.subtract(10, 4)\n",
    "print(\"Разность:\", result_subtraction)\n",
    "\n",
    "result_multiplication = calculator.multiply(6, 7)\n",
    "print(\"Произведение:\", result_multiplication)\n",
    "\n",
    "result_division = calculator.divide(8, 2)\n",
    "print(\"Частное:\", result_division)\n",
    "\n",
    "result_division_by_zero = calculator.divide(5, 0)\n",
    "print(\"Попытка деления на ноль:\", result_division_by_zero)\n"
   ]
  },
  {
   "cell_type": "markdown",
   "id": "038fc87d",
   "metadata": {},
   "source": [
    "Задача 4.\n",
    "Создайте класс Soda (для определения типа газированной воды), принимающий 1 аргумент при инициализации (отвечающий за добавку к выбираемому лимонаду). В этом классе реализуйте метод show_my_drink(), выводящий на печать Газировка и {ДОБАВКА} в случае наличия добавки, а иначе отобразится следующая фраза: Обычная газировка.\n"
   ]
  },
  {
   "cell_type": "code",
   "execution_count": 4,
   "id": "071e6857",
   "metadata": {},
   "outputs": [
    {
     "name": "stdout",
     "output_type": "stream",
     "text": [
      "Газировка и лайм\n",
      "Обычная газировка\n"
     ]
    }
   ],
   "source": [
    "class Soda:\n",
    "    def __init__(self, addon=None):\n",
    "        self.addon = addon\n",
    "\n",
    "    def show_my_drink(self):\n",
    "        if self.addon:\n",
    "            print(f\"Газировка и {self.addon}\")\n",
    "        else:\n",
    "            print(\"Обычная газировка\")\n",
    "\n",
    "# Пример использования класса \"Soda\"\n",
    "soda1 = Soda(\"лайм\")\n",
    "soda1.show_my_drink()\n",
    "\n",
    "soda2 = Soda()\n",
    "soda2.show_my_drink()\n"
   ]
  },
  {
   "cell_type": "markdown",
   "id": "13699931",
   "metadata": {},
   "source": [
    "Задача 5.\n",
    "Николаю требуется проверить, возможно ли из представленных отрезков условной длины сформировать треугольник. Для этого он решил создать класс TriangleChecker, принимающий только положительные числа. С помощью метода is_triangle() возвращаются следующие значения (в зависимости от ситуации):\n",
    "– Ура, можно построить треугольник!;\n",
    "– С отрицательными числами ничего не выйдет!;\n",
    "– Нужно вводить только числа!;\n",
    "– Жаль, но из этого треугольник не сделать.\n",
    "\n"
   ]
  },
  {
   "cell_type": "code",
   "execution_count": 9,
   "id": "fa53c807",
   "metadata": {},
   "outputs": [
    {
     "name": "stdout",
     "output_type": "stream",
     "text": [
      "Ура, можно построить треугольник!\n",
      "С отрицательными числами ничего не выйдет!\n",
      "Нужно вводить только числа!\n",
      "Жаль, но из этого треугольник не сделать.\n"
     ]
    }
   ],
   "source": [
    "class TriangleChecker:\n",
    "    def __init__(self, a, b, c):\n",
    "        self.a = a\n",
    "        self.b = b\n",
    "        self.c = c\n",
    "\n",
    "    def is_triangle(self):\n",
    "        if not all(isinstance(side, (int, float)) for side in [self.a, self.b, self.c]):\n",
    "            return \"Нужно вводить только числа!\"\n",
    "        elif self.a <= 0 or self.b <= 0 or self.c <= 0:\n",
    "            return \"С отрицательными числами ничего не выйдет!\"\n",
    "        elif not all(isinstance(side, (int, float)) for side in [self.a, self.b, self.c]):\n",
    "            return \"Нужно вводить только числа!\"\n",
    "        elif self.a + self.b > self.c and self.a + self.c > self.b and self.b + self.c > self.a:\n",
    "            return \"Ура, можно построить треугольник!\"\n",
    "        else:\n",
    "            return \"Жаль, но из этого треугольник не сделать.\"\n",
    "\n",
    "# Пример использования класса \"TriangleChecker\"\n",
    "triangle1 = TriangleChecker(3, 4, 5)\n",
    "print(triangle1.is_triangle())\n",
    "\n",
    "triangle2 = TriangleChecker(-1, 2, 3)\n",
    "print(triangle2.is_triangle())\n",
    "\n",
    "triangle3 = TriangleChecker(2, 2, '3')\n",
    "print(triangle3.is_triangle())\n",
    "\n",
    "triangle4 = TriangleChecker(1, 1, 3)\n",
    "print(triangle4.is_triangle())\n"
   ]
  },
  {
   "cell_type": "markdown",
   "id": "37693184",
   "metadata": {},
   "source": [
    "Задача 6.\n",
    "Евгения создала класс KgToPounds с параметром kg, куда передается определенное количество килограмм, а с помощью метода to_pounds() они переводятся в фунты. Чтобы закрыть доступ к переменной kg она реализовала методы set_kg() - для задания нового значения килограммов, get_kg() - для вывода текущего значения кг. Из-за этого возникло неудобство: нам нужно теперь использовать эти 2 метода для задания и вывода значений. Помогите ей переделать класс с использованием функции property() и свойств-декораторов. Код приведен ниже.\n",
    "\n",
    "Пример – IDE\n",
    "---\n",
    "class KgToPounds:\n",
    "\n",
    "____def __init__(self, kg):\n",
    "________self.__kg = kg\n",
    "\n",
    "____def to_pounds(self):\n",
    "________return self.__kg * 2.205\n",
    "\n",
    "____def set_kg(self, new_kg):\n",
    "________if isinstance(new_kg, (int, float)):\n",
    "____________self.__kg = new_kg\n",
    "________else:\n",
    "____________raise ValueError('Килограммы задаются только числами')\n",
    "\n",
    "____def get_kg(self):\n",
    "________return self.__kg\n"
   ]
  },
  {
   "cell_type": "code",
   "execution_count": 7,
   "id": "272a75d5",
   "metadata": {},
   "outputs": [
    {
     "name": "stdout",
     "output_type": "stream",
     "text": [
      "5\n",
      "10\n",
      "22.05\n"
     ]
    }
   ],
   "source": [
    "class KgToPounds:\n",
    "    def __init__(self, kg):\n",
    "        self.__kg = kg\n",
    "\n",
    "    @property\n",
    "    def kg(self):\n",
    "        return self.__kg\n",
    "\n",
    "    @kg.setter\n",
    "    def kg(self, new_kg):\n",
    "        if isinstance(new_kg, (int, float)):\n",
    "            self.__kg = new_kg\n",
    "        else:\n",
    "            raise ValueError('Килограммы задаются только числами')\n",
    "\n",
    "    def to_pounds(self):\n",
    "        return self.__kg * 2.205\n",
    "\n",
    "# Пример использования класса\n",
    "kg_converter = KgToPounds(5)\n",
    "print(kg_converter.kg)  # Вывод текущего значения кг\n",
    "kg_converter.kg = 10    # Задание нового значения кг\n",
    "print(kg_converter.kg)  # Вывод обновленного значения кг\n",
    "print(kg_converter.to_pounds())  # Перевод кг в фунты\n"
   ]
  },
  {
   "cell_type": "markdown",
   "id": "737d454f",
   "metadata": {},
   "source": [
    "Задача 7.\n",
    "Николай – оригинальный человек. Он решил создать класс Nikola, принимающий при инициализации 2 параметра: имя и возраст. Но на этом он не успокоился. Не важно, какое имя передаст пользователь при создании экземпляра, оно всегда будет содержать Николая. В частности - если пользователя на самом деле зовут Николаем, то с именем ничего не произойдет, а если его зовут, например, Максим, то оно преобразуется в Я не Максим, а Николай.\n",
    "\n",
    "Более того, никаких других атрибутов и методов у экземпляра не может быть добавлено, даже если кто-то и вздумает так поступить (т.е. если некий пользователь решит прибавить к экземпляру свойство отчество или метод приветствие, то ничего у такого хитреца не получится).\n",
    "\n"
   ]
  },
  {
   "cell_type": "code",
   "execution_count": 8,
   "id": "0b54b170",
   "metadata": {},
   "outputs": [
    {
     "name": "stdout",
     "output_type": "stream",
     "text": [
      "Я не Максим, а Николай\n",
      "30\n"
     ]
    }
   ],
   "source": [
    "class NikolaMeta(type):\n",
    "    def __call__(cls, name, age):\n",
    "        if name != \"Николай\":\n",
    "            name = f\"Я не {name}, а Николай\"\n",
    "        return super().__call__(name, age)\n",
    "\n",
    "class Nikola(metaclass=NikolaMeta):\n",
    "    def __init__(self, name, age):\n",
    "        self.name = name\n",
    "        self.age = age\n",
    "\n",
    "# Пример использования класса\n",
    "nikolay = Nikola(\"Максим\", 30)\n",
    "print(nikolay.name)  # Вывод: Я не Максим, а Николай\n",
    "print(nikolay.age)  # Вывод: 30\n"
   ]
  },
  {
   "cell_type": "markdown",
   "id": "b8ba1dbd",
   "metadata": {},
   "source": [
    "Задача 8*.\n",
    "Строки в Питоне сравниваются на основании значений символов. Т.е. если мы захотим выяснить, что больше: Apple или Яблоко, – то Яблоко окажется бОльшим. А все потому, что английская буква A имеет значение 65 (берется из таблицы кодировки), а русская буква Я – 1071 (с помощью функции ord() это можно выяснить). Такое положение дел не устроило Анну. Она считает, что строки нужно сравнивать по количеству входящих в них символов.\n",
    "\n",
    "Для этого девушка создала класс RealString и реализовала озвученный инструментарий. Сравнивать между собой можно как объекты класса, так и обычные строки с экземплярами класса RealString. К слову, Анне понадобилось только 3 метода внутри класса (включая __init__()) для воплощения задуманного.\n"
   ]
  },
  {
   "cell_type": "code",
   "execution_count": null,
   "id": "7a4bf624",
   "metadata": {},
   "outputs": [],
   "source": []
  }
 ],
 "metadata": {
  "kernelspec": {
   "display_name": "Python 3 (ipykernel)",
   "language": "python",
   "name": "python3"
  },
  "language_info": {
   "codemirror_mode": {
    "name": "ipython",
    "version": 3
   },
   "file_extension": ".py",
   "mimetype": "text/x-python",
   "name": "python",
   "nbconvert_exporter": "python",
   "pygments_lexer": "ipython3",
   "version": "3.11.5"
  }
 },
 "nbformat": 4,
 "nbformat_minor": 5
}
