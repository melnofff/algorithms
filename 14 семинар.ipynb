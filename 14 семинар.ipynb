{
 "cells": [
  {
   "cell_type": "markdown",
   "id": "fda60ad1",
   "metadata": {},
   "source": [
    "10) Написать 4 функции порождения списка целых значений: отсортированного (по возрастанию и убыванию), случайного и почти отсортированного по возрастанию. Каждая функция принимает длину списка в качестве аргумента."
   ]
  },
  {
   "cell_type": "code",
   "execution_count": 1,
   "id": "239ff5b1",
   "metadata": {},
   "outputs": [
    {
     "name": "stdout",
     "output_type": "stream",
     "text": [
      "Отсортированный список по возрастанию: [1, 2, 3, 4, 5, 6, 7, 8, 9, 10]\n",
      "Отсортированный список по убыванию: [10, 9, 8, 7, 6, 5, 4, 3, 2, 1]\n",
      "Случайный список: [47, 38, 80, 40, 30, 84, 41, 66, 56, 75]\n",
      "Почти отсортированный список по возрастанию: [1, 2, 3, 4, 5, 6, 7, 8, 9, 10]\n"
     ]
    }
   ],
   "source": [
    "import random\n",
    "\n",
    "# Функция для порождения отсортированного списка целых значений по возрастанию\n",
    "def sorted_list_asc(length):\n",
    "    return list(range(1, length+1))\n",
    "\n",
    "# Функция для порождения отсортированного списка целых значений по убыванию\n",
    "def sorted_list_desc(length):\n",
    "    return list(range(length, 0, -1))\n",
    "\n",
    "# Функция для порождения случайного списка целых значений\n",
    "def random_list(length):\n",
    "    return [random.randint(1, 100) for _ in range(length)]\n",
    "\n",
    "# Функция для порождения почти отсортированного списка целых значений по возрастанию\n",
    "def almost_sorted_list_asc(length):\n",
    "    lst = list(range(1, length+1))\n",
    "    for i in range(length//10):\n",
    "        index1 = random.randint(0, length-1)\n",
    "        index2 = random.randint(0, length-1)\n",
    "        lst[index1], lst[index2] = lst[index2], lst[index1]\n",
    "    return lst\n",
    "\n",
    "# Пример использования функций\n",
    "print(\"Отсортированный список по возрастанию:\", sorted_list_asc(10))\n",
    "print(\"Отсортированный список по убыванию:\", sorted_list_desc(10))\n",
    "print(\"Случайный список:\", random_list(10))\n",
    "print(\"Почти отсортированный список по возрастанию:\", almost_sorted_list_asc(10))\n"
   ]
  },
  {
   "cell_type": "markdown",
   "id": "7d063fd0",
   "metadata": {},
   "source": [
    "11) Реализовать функцию тестирования алгоритма сортировки. Процедура принимает на вход алгоритм сортировки и алгоритм порождения списка f_gen(list_len), генерирующий список заданной длины, количество повтороений теста и список длин использующихся для тестирования. Для каждой длины списка функция тестирования возвращает минимальное, среднее и наибольшее количество сравнений и перестановок."
   ]
  },
  {
   "cell_type": "markdown",
   "id": "dfcdd836",
   "metadata": {},
   "source": [
    "import time\n",
    "import statistics\n",
    "\n",
    "def test_sorting_algorithm(sort_algorithm, f_gen, repetitions, list_lengths):\n",
    "    results = {}\n",
    "    \n",
    "    for length in list_lengths:\n",
    "        comparisons = []\n",
    "        swaps = []\n",
    "        for _ in range(repetitions):\n",
    "            lst = f_gen(length)\n",
    "            lst_copy = lst.copy()\n",
    "            \n",
    "            start_time = time.time()\n",
    "            comparisons_count, swaps_count = sort_algorithm(lst_copy)\n",
    "            end_time = time.time()\n",
    "            \n",
    "            comparisons.append(comparisons_count)\n",
    "            swaps.append(swaps_count)\n",
    "        \n",
    "        results[length] = {\n",
    "            'min_comparisons': min(comparisons),\n",
    "            'avg_comparisons': statistics.mean(comparisons),\n",
    "            'max_comparisons': max(comparisons),\n",
    "            'min_swaps': min(swaps),\n",
    "            'avg_swaps': statistics.mean(swaps),\n",
    "            'max_swaps': max(swaps)\n",
    "        }\n",
    "    \n",
    "    return results\n"
   ]
  },
  {
   "cell_type": "markdown",
   "id": "0c4637c5",
   "metadata": {},
   "source": [
    "12) Реализовать модификацию сортировки пузырьком: \"камешек-пузырек\" - с чередующимися проходами, приводящими к \"всплытию\" самого большого значения списка и \"погружению\" самого маленького значения из неотсортированной части списка."
   ]
  },
  {
   "cell_type": "code",
   "execution_count": 3,
   "id": "f5e97575",
   "metadata": {},
   "outputs": [
    {
     "name": "stdout",
     "output_type": "stream",
     "text": [
      "Отсортированный список по алгоритму 'камешек-пузырек': [11, 12, 22, 25, 34, 64, 90]\n"
     ]
    }
   ],
   "source": [
    "def stone_bubble_sort(arr):\n",
    "    n = len(arr)\n",
    "    is_sorted = False\n",
    "    step = 0\n",
    "    \n",
    "    while not is_sorted:\n",
    "        is_sorted = True\n",
    "        for i in range(step % 2, n-1-step % 2, 2):\n",
    "            if arr[i] > arr[i+1]:\n",
    "                arr[i], arr[i+1] = arr[i+1], arr[i]\n",
    "                is_sorted = False\n",
    "        \n",
    "        step += 1\n",
    "    \n",
    "    return arr\n",
    "\n",
    "# Пример использования\n",
    "arr = [64, 34, 25, 12, 22, 11, 90]\n",
    "sorted_arr = stone_bubble_sort(arr)\n",
    "print(\"Отсортированный список по алгоритму 'камешек-пузырек':\", sorted_arr)\n"
   ]
  },
  {
   "cell_type": "markdown",
   "id": "27e14571",
   "metadata": {},
   "source": [
    "14) Протестировать алгоритм \"пузырек\" и \"камешек-пузырек\" на разных типах списков."
   ]
  },
  {
   "cell_type": "code",
   "execution_count": null,
   "id": "9d74d469",
   "metadata": {},
   "outputs": [],
   "source": [
    "import random\n",
    "\n",
    "def bubble_sort(arr):\n",
    "    comparisons = 0\n",
    "    swaps = 0\n",
    "    n = len(arr)\n",
    "    for i in range(n):\n",
    "        for j in range(0, n-i-1):\n",
    "            comparisons += 1\n",
    "            if arr[j] > arr[j+1]:\n",
    "                arr[j], arr[j+1] = arr[j+1], arr[j]\n",
    "                swaps += 1\n",
    "    return comparisons, swaps\n",
    "\n",
    "def stone_bubble_sort(arr):\n",
    "    n = len(arr)\n",
    "    is_sorted = False\n",
    "    step = 0\n",
    "    comparisons = 0\n",
    "    while not is_sorted:\n",
    "        is_sorted = True\n",
    "        for i in range(step % 2, n-1-step % 2, 2):\n",
    "            comparisons += 1\n",
    "            if arr[i] > arr[i+1]:\n",
    "                arr[i], arr[i+1] = arr[i+1], arr[i]\n",
    "                is_sorted = False\n",
    "        step += 1\n",
    "    return comparisons\n",
    "\n",
    "def generate_random_list(length):\n",
    "    return [random.randint(1, 100) for _ in range(length)]\n",
    "\n",
    "def generate_reverse_sorted_list(length):\n",
    "    return [i for i in range(length, 0, -1)]\n",
    "\n",
    "list_lengths = [10, 100, 1000]\n",
    "repetitions = 10\n",
    "\n",
    "results_bubble = test_sorting_algorithm(bubble_sort, generate_random_list, repetitions, list_lengths)\n",
    "results_stone_bubble = test_sorting_algorithm(stone_bubble_sort, generate_random_list, repetitions, list_lengths)\n",
    "\n",
    "print(\"Результаты для алгоритма 'пузырек':\")\n",
    "print(results_bubble)\n",
    "\n",
    "print(\"\\nРезультаты для алгоритма 'камешек-пузырек':\")\n",
    "print(results_stone_bubble)"
   ]
  },
  {
   "cell_type": "markdown",
   "id": "8968b01b",
   "metadata": {},
   "source": [
    "16) Реализовать быструю сортировку с возможностью подсчета операций. Сравнить производительность алгоритма на случайных и упорядоченных (и почти упорядоченных) данных."
   ]
  },
  {
   "cell_type": "code",
   "execution_count": 6,
   "id": "3246b65d",
   "metadata": {},
   "outputs": [
    {
     "name": "stdout",
     "output_type": "stream",
     "text": [
      "Сравнение производительности алгоритма быстрой сортировки на случайных данных:\n",
      "Количество сравнений (случайные данные): 577\n",
      "Количество обменов (случайные данные): 286\n",
      "\n",
      "Сравнение производительности алгоритма быстрой сортировки на почти упорядоченных данных:\n",
      "Количество сравнений (почти упорядоченные данные): 574\n",
      "Количество обменов (почти упорядоченные данные): 328\n"
     ]
    }
   ],
   "source": [
    "def quick_sort(arr):\n",
    "    comparisons = 0\n",
    "    swaps = 0\n",
    "\n",
    "    def partition(arr, low, high):\n",
    "        nonlocal comparisons, swaps\n",
    "        pivot = arr[high]\n",
    "        i = low - 1\n",
    "        for j in range(low, high):\n",
    "            comparisons += 1\n",
    "            if arr[j] < pivot:\n",
    "                i += 1\n",
    "                arr[i], arr[j] = arr[j], arr[i]\n",
    "                swaps += 1\n",
    "        arr[i + 1], arr[high] = arr[high], arr[i + 1]\n",
    "        swaps += 1\n",
    "        return i + 1\n",
    "\n",
    "    def quick_sort_helper(arr, low, high):\n",
    "        nonlocal comparisons, swaps\n",
    "        if low < high:\n",
    "            pi = partition(arr, low, high)\n",
    "            quick_sort_helper(arr, low, pi - 1)\n",
    "            quick_sort_helper(arr, pi + 1, high)\n",
    "\n",
    "    quick_sort_helper(arr, 0, len(arr) - 1)\n",
    "    \n",
    "    return comparisons, swaps\n",
    "\n",
    "# Генерация случайного списка\n",
    "def generate_random_list(length):\n",
    "    return [random.randint(1, 100) for _ in range(length)]\n",
    "\n",
    "# Генерация почти отсортированного списка\n",
    "def generate_almost_sorted_list(length):\n",
    "    arr = [i for i in range(1, length+1)]\n",
    "    # Перемешиваем список\n",
    "    random.shuffle(arr)\n",
    "    return arr\n",
    "\n",
    "list_length = 100\n",
    "repetitions = 10\n",
    "\n",
    "random_list = generate_random_list(list_length)\n",
    "almost_sorted_list = generate_almost_sorted_list(list_length)\n",
    "\n",
    "comparisons_random, swaps_random = quick_sort(random_list.copy())\n",
    "comparisons_almost_sorted, swaps_almost_sorted = quick_sort(almost_sorted_list.copy())\n",
    "\n",
    "print(\"Сравнение производительности алгоритма быстрой сортировки на случайных данных:\")\n",
    "print(\"Количество сравнений (случайные данные):\", comparisons_random)\n",
    "print(\"Количество обменов (случайные данные):\", swaps_random)\n",
    "\n",
    "print(\"\\nСравнение производительности алгоритма быстрой сортировки на почти упорядоченных данных:\")\n",
    "print(\"Количество сравнений (почти упорядоченные данные):\", comparisons_almost_sorted)\n",
    "print(\"Количество обменов (почти упорядоченные данные):\", swaps_almost_sorted)\n"
   ]
  },
  {
   "cell_type": "markdown",
   "id": "36f1fa45",
   "metadata": {},
   "source": [
    "17) Улучшить работу быстрой сортировки на упорядоченных и почти упорядоченных за счет изменения алгоритма выбора элемента для разделения массива."
   ]
  },
  {
   "cell_type": "code",
   "execution_count": 7,
   "id": "11de5c12",
   "metadata": {},
   "outputs": [
    {
     "name": "stdout",
     "output_type": "stream",
     "text": [
      "Сравнение производительности улучшенного алгоритма быстрой сортировки на случайных данных:\n",
      "Количество сравнений (случайные данные): 535\n",
      "Количество обменов (случайные данные): 310\n",
      "\n",
      "Сравнение производительности улучшенного алгоритма быстрой сортировки на почти упорядоченных данных:\n",
      "Количество сравнений (почти упорядоченные данные): 517\n",
      "Количество обменов (почти упорядоченные данные): 322\n"
     ]
    }
   ],
   "source": [
    "import random\n",
    "\n",
    "def quick_sort_improved(arr):\n",
    "    comparisons = 0\n",
    "    swaps = 0\n",
    "\n",
    "    def choose_pivot(arr, low, high):\n",
    "        mid = (low + high) // 2\n",
    "        pivot_candidates = [arr[low], arr[mid], arr[high]]\n",
    "        pivot_candidates.sort()\n",
    "        pivot_index = arr.index(pivot_candidates[1])\n",
    "        return pivot_index\n",
    "\n",
    "    def partition(arr, low, high):\n",
    "        nonlocal comparisons, swaps\n",
    "        pivot_index = choose_pivot(arr, low, high)\n",
    "        pivot = arr[pivot_index]\n",
    "        arr[pivot_index], arr[high] = arr[high], arr[pivot_index]\n",
    "        i = low - 1\n",
    "        for j in range(low, high):\n",
    "            comparisons += 1\n",
    "            if arr[j] < pivot:\n",
    "                i += 1\n",
    "                arr[i], arr[j] = arr[j], arr[i]\n",
    "                swaps += 1\n",
    "        arr[i + 1], arr[high] = arr[high], arr[i + 1]\n",
    "        swaps += 1\n",
    "        return i + 1\n",
    "\n",
    "    def quick_sort_helper(arr, low, high):\n",
    "        nonlocal comparisons, swaps\n",
    "        if low < high:\n",
    "            pi = partition(arr, low, high)\n",
    "            quick_sort_helper(arr, low, pi - 1)\n",
    "            quick_sort_helper(arr, pi + 1, high)\n",
    "\n",
    "    quick_sort_helper(arr, 0, len(arr) - 1)\n",
    "\n",
    "    return comparisons, swaps\n",
    "\n",
    "# Генерация случайного списка\n",
    "def generate_random_list(length):\n",
    "    return [random.randint(1, 100) for _ in range(length)]\n",
    "\n",
    "# Генерация почти отсортированного списка\n",
    "def generate_almost_sorted_list(length):\n",
    "    arr = [i for i in range(1, length+1)]\n",
    "    # Перемешиваем список\n",
    "    random.shuffle(arr)\n",
    "    return arr\n",
    "\n",
    "list_length = 100\n",
    "repetitions = 10\n",
    "\n",
    "random_list = generate_random_list(list_length)\n",
    "almost_sorted_list = generate_almost_sorted_list(list_length)\n",
    "\n",
    "comparisons_random, swaps_random = quick_sort_improved(random_list.copy())\n",
    "comparisons_almost_sorted, swaps_almost_sorted = quick_sort_improved(almost_sorted_list.copy())\n",
    "\n",
    "print(\"Сравнение производительности улучшенного алгоритма быстрой сортировки на случайных данных:\")\n",
    "print(\"Количество сравнений (случайные данные):\", comparisons_random)\n",
    "print(\"Количество обменов (случайные данные):\", swaps_random)\n",
    "\n",
    "print(\"\\nСравнение производительности улучшенного алгоритма быстрой сортировки на почти упорядоченных данных:\")\n",
    "print(\"Количество сравнений (почти упорядоченные данные):\", comparisons_almost_sorted)\n",
    "print(\"Количество обменов (почти упорядоченные данные):\", swaps_almost_sorted)\n"
   ]
  },
  {
   "cell_type": "markdown",
   "id": "06afa555",
   "metadata": {},
   "source": [
    "18) Реализовать эффективный алгоритм получения из большого количества отсортированных списков одного отсортированного списка."
   ]
  },
  {
   "cell_type": "code",
   "execution_count": null,
   "id": "534c9c5c",
   "metadata": {},
   "outputs": [],
   "source": []
  },
  {
   "cell_type": "code",
   "execution_count": null,
   "id": "28bb01cd",
   "metadata": {},
   "outputs": [],
   "source": []
  },
  {
   "cell_type": "code",
   "execution_count": null,
   "id": "65099f71",
   "metadata": {},
   "outputs": [],
   "source": []
  }
 ],
 "metadata": {
  "kernelspec": {
   "display_name": "Python 3 (ipykernel)",
   "language": "python",
   "name": "python3"
  },
  "language_info": {
   "codemirror_mode": {
    "name": "ipython",
    "version": 3
   },
   "file_extension": ".py",
   "mimetype": "text/x-python",
   "name": "python",
   "nbconvert_exporter": "python",
   "pygments_lexer": "ipython3",
   "version": "3.11.4"
  }
 },
 "nbformat": 4,
 "nbformat_minor": 5
}
