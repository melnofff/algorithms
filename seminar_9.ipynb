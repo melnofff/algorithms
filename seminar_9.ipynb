{
 "cells": [
  {
   "cell_type": "code",
   "execution_count": null,
   "metadata": {},
   "outputs": [],
   "source": [
    "# Задание 4\n",
    "\n",
    "l1 = ['1', '123', '123', '12', '1', '123']\n",
    "l2 = [2, 4, -2, -3, 0 , 11 , 3 -1]\n",
    "d4 = {1: 10, 2: 20, 3: 30, 4: 40, 5: 50, 6: 60}\n",
    "d5 = {'a': 3, 'b': 4, 'c': 5, 'd': 6, 'e': 7, 'f': 8, 'g': 9}\n",
    "d6 = {'e': 20, 'f': 21, 'g': 22, 'h': 23, 'i': 24, 'j': 25, 'k': 26, 'l': 27}\n",
    "\n",
    "# 4.13\n",
    "new_l1 = [len(x) for x in l1]\n",
    "print(new_l1)\n",
    "\n",
    "# 4.14\n",
    "count = sum(1 for x in l1 if len(x) > 2)\n",
    "print(count)\n",
    "\n",
    "# 4.15\n",
    "result = sum(k * v for k, v in d4.items())\n",
    "print(result)\n",
    "\n",
    "# 4.16\n",
    "d7 = {k: v for k, v in d6.items() if k not in d5}\n",
    "print(d7)\n",
    "\n",
    "# 4.17\n",
    "new_l2 = [(i + 1) * v if v is not None and i is not None else v for i, v in enumerate(l2)]\n",
    "print(new_l2)\n",
    "\n",
    "# 4.1\n",
    "new_l2 = [x for x in l2 if x >= 0]\n",
    "print(new_l2)\n",
    "\n",
    "# 4.19\n",
    "new_l2 = [i + 1 if x < 0 else x for i, x in enumerate(l2)]\n",
    "print(new_l2)"
   ]
  },
  {
   "cell_type": "code",
   "execution_count": null,
   "metadata": {},
   "outputs": [],
   "source": [
    "# Задание 5.1\n",
    "def umn(a, b):\n",
    "    return a * b\n",
    "a = float(input(\"Введите число: \"))\n",
    "b = float(input(\"Введите число: \"))\n",
    "print(f'{a} умножить на {b} будет: {umn(a, b)}')"
   ]
  },
  {
   "cell_type": "code",
   "execution_count": null,
   "metadata": {},
   "outputs": [],
   "source": [
    "# Задание 5.2\n",
    "def multiply(*args):\n",
    "    result = 1\n",
    "    for num in args:\n",
    "        result *= num\n",
    "    return result\n",
    "print(multiply(2,4,7))"
   ]
  },
  {
   "cell_type": "code",
   "execution_count": null,
   "metadata": {},
   "outputs": [],
   "source": [
    "# Задание 5.3\n",
    "def multiply(*args):\n",
    "    result = 1\n",
    "    for num in args:\n",
    "        result *= num\n",
    "    return result\n",
    "print(multiply(2,4,7))"
   ]
  },
  {
   "cell_type": "code",
   "execution_count": null,
   "metadata": {},
   "outputs": [],
   "source": [
    "# Задание 5.4\n",
    "def multiply(*args):\n",
    "    result = 1\n",
    "    for num in args:\n",
    "        result *= num\n",
    "    return result\n",
    "print(multiply(2,4,7))"
   ]
  },
  {
   "cell_type": "code",
   "execution_count": null,
   "metadata": {},
   "outputs": [],
   "source": [
    "# Задание 5.5\n",
    "def add(x, y):\n",
    "    return x + y\n",
    "\n",
    "def subtract(x, y):\n",
    "    return x - y\n",
    "\n",
    "def multiply(x, y):\n",
    "    return x * y\n",
    "\n",
    "def divide(x, y):\n",
    "    if y != 0:\n",
    "        return x / y\n",
    "    else:\n",
    "        return \"Деление на ноль невозможно\"\n",
    "print(add(6,3))"
   ]
  },
  {
   "cell_type": "code",
   "execution_count": null,
   "metadata": {},
   "outputs": [],
   "source": [
    "# Задание 5.6\n",
    "def calc(expression):\n",
    "    num1, op, num2=expression.split()\n",
    "    num1=int(num1)\n",
    "    num2=int(num2)\n",
    "    if op=='+':\n",
    "        return num1+num2\n",
    "    elif op=='-':\n",
    "        return num1-num2\n",
    "    elif op=='*':\n",
    "        return num1*num2\n",
    "    elif op=='/':\n",
    "        return num1//num2\n",
    "    elif op=='%':\n",
    "        return num1%num2  \n",
    "    elif op=='^':\n",
    "        return num1**num2  \n",
    "print(calc(input('Введите строковое выражение вида <число> <операция> <число>')))"
   ]
  },
  {
   "cell_type": "code",
   "execution_count": null,
   "metadata": {},
   "outputs": [],
   "source": [
    "# Задание 5.7\n",
    "def print_car_info(brand='BMW', model='X5', color='белый', year=2006, mileage=215000, license_plate='X012АМ77', price=1115000):\n",
    "    print(f\"Автомобиль марки: {brand}, модели: {model}, цвета: {color}, {year} года выпуска, с пробегом: {mileage} км, c номерным знаком: {license_plate}, цена: {price} руб.\")\n",
    "    \n",
    "c1={'brand': 'Audi', 'model': 'A4', 'color': 'черный', 'mileage': 180000, 'price': 980000}\n",
    "c2={'brand': 'Toyota', 'model': 'RAV4', 'color': 'серебристый', 'year': 2015, 'price': 1200000}\n",
    "\n",
    "print_car_info(**c1)\n",
    "print_car_info(**c2)"
   ]
  },
  {
   "cell_type": "code",
   "execution_count": null,
   "metadata": {},
   "outputs": [],
   "source": [
    "# Задаение 5.8\n",
    "def to_text(num):\n",
    "    numbers_map = {\n",
    "        0: 'Ноль', 1: 'Один', 2: 'Два', 3: 'Три', 4: 'Четыре', 5: 'Пять', 6: 'Шесть', 7: 'Семь', 8: 'Восемь', 9: 'Девять',\n",
    "        10: 'Десять', 11: 'Одиннадцать', 12: 'Двенадцать', 13: 'Тринадцать', 14: 'Четырнадцать', 15: 'Пятнадцать',\n",
    "        16: 'Шестнадцать', 17: 'Семнадцать', 18: 'Восемнадцать', 19: 'Девятнадцать', 20: 'Двадцать', 30: 'Тридцать',\n",
    "        40: 'Сорок', 50: 'Пятьдесят', 60: 'Шестьдесят', 70: 'Семьдесят', 80: 'Восемьдесят', 90: 'Девяносто'\n",
    "    }\n",
    "    \n",
    "    if num in numbers_map:\n",
    "        return numbers_map[num]\n",
    "    else:\n",
    "        tens = num // 10 * 10\n",
    "        ones = num % 10\n",
    "        return f\"{numbers_map[tens]} {numbers_map[ones].lower()}\"\n",
    "\n",
    "print(to_text(15)) "
   ]
  },
  {
   "cell_type": "code",
   "execution_count": null,
   "metadata": {},
   "outputs": [],
   "source": [
    "# Задание 5.9\n",
    "def to_int(text):\n",
    "    numbers_map = {\n",
    "        'ноль': 0, 'один': 1, 'два': 2, 'три': 3, 'четыре': 4, 'пять': 5, 'шесть': 6, 'семь': 7, 'восемь': 8, 'девять': 9,\n",
    "        'десять': 10, 'одиннадцать': 11, 'двенадцать': 12, 'тринадцать': 13, 'четырнадцать': 14, 'пятнадцать': 15,\n",
    "        'шестнадцать': 16, 'семнадцать': 17, 'восемнадцать': 18, 'девятнадцать': 19, 'двадцать': 20, 'тридцать': 30,\n",
    "        'сорок': 40, 'пятьдесят': 50, 'шестьдесят': 60, 'семьдесят': 70, 'восемьдесят': 80, 'девяносто': 90\n",
    "    }\n",
    "    \n",
    "    parts = text.split()\n",
    "    number = 0\n",
    "    for part in parts:\n",
    "        if part in numbers_map:\n",
    "            number += numbers_map[part]\n",
    "    \n",
    "    return number\n",
    "\n",
    "print(to_int('тридцать три')) "
   ]
  },
  {
   "cell_type": "code",
   "execution_count": null,
   "metadata": {},
   "outputs": [],
   "source": [
    "# Задание 6.1\n",
    "def calc(expression):\n",
    "    numbers_map = {\n",
    "        'ноль': 0, 'один': 1, 'два': 2, 'три': 3, 'четыре': 4, 'пять': 5, 'шесть': 6, 'семь': 7, 'восемь': 8, 'девять': 9,\n",
    "        'десять': 10, 'одиннадцать': 11, 'двенадцать': 12, 'тринадцать': 13, 'четырнадцать': 14, 'пятнадцать': 15,\n",
    "        'шестнадцать': 16, 'семнадцать': 17, 'восемнадцать': 18, 'девятнадцать': 19, 'двадцать': 20, 'тридцать': 30,\n",
    "        'сорок': 40, 'пятьдесят': 50, 'шестьдесят': 60, 'семьдесят': 70, 'восемьдесят': 80, 'девяносто': 90\n",
    "    }\n",
    "    \n",
    "    operations = {'плюс': '+', 'минус': '-', 'умножить': '*'}\n",
    "    parts = expression.split()\n",
    "    first_number = numbers_map[parts[0]]\n",
    "    operation = operations[parts[1]]\n",
    "    second_number = numbers_map[parts[2]]\n",
    "    result = eval(f\"{first_number} {operation} {second_number}\")\n",
    "    \n",
    "    for key, value in numbers_map.items():\n",
    "        if value == result:\n",
    "            return key.capitalize()\n",
    "\n",
    "print(calc('двадцать пять плюс тринадцать'))"
   ]
  }
 ],
 "metadata": {
  "language_info": {
   "name": "python"
  }
 },
 "nbformat": 4,
 "nbformat_minor": 2
}
