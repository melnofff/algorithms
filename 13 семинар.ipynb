{
 "cells": [
  {
   "cell_type": "markdown",
   "id": "bfb3aac6",
   "metadata": {},
   "source": [
    "1) Реализовать простейший динамический массив, поддерживающий добавление элемента в конец массива при помощи метода append(e).\n",
    "Также должны поддерживаться следующие операции:\n",
    "•\tизвлечение элемента по индексу;\n",
    "•\tустанавка нового значения по индексу;\n",
    "•\tполучение текущей длины массива.\n"
   ]
  },
  {
   "cell_type": "code",
   "execution_count": 1,
   "id": "583549a1",
   "metadata": {},
   "outputs": [
    {
     "name": "stdout",
     "output_type": "stream",
     "text": [
      "2\n",
      "5\n",
      "3\n"
     ]
    }
   ],
   "source": [
    "class DynamicArray:\n",
    "    def __init__(self):\n",
    "        self.array = []\n",
    "        self.length = 0\n",
    "\n",
    "    def append(self, element):\n",
    "        self.array.append(element)\n",
    "        self.length += 1\n",
    "\n",
    "    def get(self, index):\n",
    "        if 0 <= index < self.length:\n",
    "            return self.array[index]\n",
    "        else:\n",
    "            return None\n",
    "\n",
    "    def set(self, index, new_value):\n",
    "        if 0 <= index < self.length:\n",
    "            self.array[index] = new_value\n",
    "        else:\n",
    "            raise IndexError(\"Index out of range\")\n",
    "\n",
    "    def get_length(self):\n",
    "        return self.length\n",
    "\n",
    "# Пример использования\n",
    "da = DynamicArray()\n",
    "da.append(1)\n",
    "da.append(2)\n",
    "da.append(3)\n",
    "\n",
    "print(da.get(1))  # Вывод: 2\n",
    "\n",
    "da.set(1, 5)\n",
    "print(da.get(1))  # Вывод: 5\n",
    "\n",
    "print(da.get_length())  # Вывод: 3\n"
   ]
  },
  {
   "cell_type": "markdown",
   "id": "06b1f312",
   "metadata": {},
   "source": [
    "1.1) Добавить реализацию удаления элемента из любого места массива и поддержку корректного вывода массива при помощи функции print."
   ]
  },
  {
   "cell_type": "code",
   "execution_count": 3,
   "id": "ed783449",
   "metadata": {},
   "outputs": [
    {
     "name": "stdout",
     "output_type": "stream",
     "text": [
      "[1, 2, 3]\n",
      "[1, 3]\n"
     ]
    }
   ],
   "source": [
    "class DynamicArray:\n",
    "    def __init__(self):\n",
    "        self.array = []\n",
    "        self.length = 0\n",
    "\n",
    "    def append(self, element):\n",
    "        self.array.append(element)\n",
    "        self.length += 1\n",
    "\n",
    "    def get(self, index):\n",
    "        if 0 <= index < self.length:\n",
    "            return self.array[index]\n",
    "        else:\n",
    "            return None\n",
    "\n",
    "    def set(self, index, new_value):\n",
    "        if 0 <= index < self.length:\n",
    "            self.array[index] = new_value\n",
    "        else:\n",
    "            raise IndexError(\"Index out of range\")\n",
    "\n",
    "    def delete(self, index):\n",
    "        if 0 <= index < self.length:\n",
    "            del self.array[index]\n",
    "            self.length -= 1\n",
    "        else:\n",
    "            raise IndexError(\"Index out of range\")\n",
    "\n",
    "    def __str__(self):\n",
    "        return str(self.array)\n",
    "\n",
    "# Пример использования\n",
    "da = DynamicArray()\n",
    "da.append(1)\n",
    "da.append(2)\n",
    "da.append(3)\n",
    "\n",
    "print(da)  # Вывод: [1, 2, 3]\n",
    "\n",
    "da.delete(1)\n",
    "print(da)  # Вывод: [1, 3]\n"
   ]
  },
  {
   "cell_type": "markdown",
   "id": "5ecbc237",
   "metadata": {},
   "source": [
    "2) Реализовать генератор, который возвращает значение поочередно извлекаемое из конца двух очередей (в качестве очереди используется deque из collections). Если очередь из которой извлекается элемент пуста - генератор заканчивает работу."
   ]
  },
  {
   "cell_type": "code",
   "execution_count": 4,
   "id": "68f512ab",
   "metadata": {},
   "outputs": [
    {
     "name": "stdout",
     "output_type": "stream",
     "text": [
      "3\n",
      "6\n",
      "2\n",
      "5\n",
      "1\n",
      "4\n"
     ]
    }
   ],
   "source": [
    "from collections import deque\n",
    "\n",
    "def alternating_deque_values(queue1, queue2):\n",
    "    while queue1 and queue2:\n",
    "        yield queue1.pop()\n",
    "        yield queue2.pop()\n",
    "\n",
    "# Пример использования\n",
    "queue1 = deque([1, 2, 3])\n",
    "queue2 = deque([4, 5, 6])\n",
    "\n",
    "for value in alternating_deque_values(queue1, queue2):\n",
    "    print(value)\n"
   ]
  },
  {
   "cell_type": "markdown",
   "id": "3ec12a09",
   "metadata": {},
   "source": [
    "3) Реализовать классы с медодом action():\n",
    "    \n",
    "    \n",
    "а) Класс Pump - в методе action() извлекает очередное значение из генератора и помещает значение в очередь (очередь передается в конструктор).\n",
    "\n",
    "\n",
    "b) Класс MultiAction - при вызове метода action() n раз вызвает метод action() класса, переданного в конструкторе. Число n также определяется в конструкторе.\n",
    "\n",
    "\n",
    "c) Класс MultiPump - в методе action() извлекает очередное значение из генератора и помещает значение в одну из очередей (очереди передается в конструкторе); очереди , в которые помещаются очередные значения, меняются по порядку.\n"
   ]
  },
  {
   "cell_type": "code",
   "execution_count": 5,
   "id": "85e41ff5",
   "metadata": {},
   "outputs": [
    {
     "name": "stdout",
     "output_type": "stream",
     "text": [
      "deque([1, 3])\n",
      "deque([2, 4])\n"
     ]
    }
   ],
   "source": [
    "from collections import deque\n",
    "\n",
    "class Pump:\n",
    "    def __init__(self, queue, generator):\n",
    "        self.queue = queue\n",
    "        self.generator = generator\n",
    "\n",
    "    def action(self):\n",
    "        try:\n",
    "            value = next(self.generator)\n",
    "            self.queue.append(value)\n",
    "        except StopIteration:\n",
    "            print(\"Generator is empty\")\n",
    "\n",
    "class MultiAction:\n",
    "    def __init__(self, obj, n):\n",
    "        self.obj = obj\n",
    "        self.n = n\n",
    "\n",
    "    def action(self):\n",
    "        for _ in range(self.n):\n",
    "            self.obj.action()\n",
    "\n",
    "class MultiPump:\n",
    "    def __init__(self, queues, generator):\n",
    "        self.queues = queues\n",
    "        self.generator = generator\n",
    "        self.current_queue_index = 0\n",
    "\n",
    "    def action(self):\n",
    "        try:\n",
    "            value = next(self.generator)\n",
    "            self.queues[self.current_queue_index].append(value)\n",
    "            self.current_queue_index = (self.current_queue_index + 1) % len(self.queues)\n",
    "        except StopIteration:\n",
    "            print(\"Generator is empty\")\n",
    "\n",
    "# Пример использования\n",
    "queue1 = deque()\n",
    "queue2 = deque()\n",
    "generator = (i for i in range(1, 6))\n",
    "\n",
    "pump1 = Pump(queue1, generator)\n",
    "pump2 = Pump(queue2, generator)\n",
    "\n",
    "multi_pump = MultiPump([queue1, queue2], generator)\n",
    "multi_action = MultiAction(multi_pump, 4)\n",
    "\n",
    "multi_action.action()\n",
    "\n",
    "print(queue1)\n",
    "print(queue2)\n"
   ]
  },
  {
   "cell_type": "markdown",
   "id": "3038c1fe",
   "metadata": {},
   "source": [
    "4) При помощи GenFromQ, Pump реализовать систему опработки сообщений. Сообщения создаются генератором сообщений возвращающим случайным образорм одно из сообщений. Сообщения из трех генераторов закачиваются в три очереди при помощи классов Pump, далее при помощи GenFromQ и Pump объединяются в одну очередь и выводятся на экран (можно реализовать при помощи класса с action и вызываемого при помощи MultiPump).\n",
    "\n"
   ]
  },
  {
   "cell_type": "code",
   "execution_count": null,
   "id": "77c38e07",
   "metadata": {},
   "outputs": [],
   "source": []
  }
 ],
 "metadata": {
  "kernelspec": {
   "display_name": "Python 3 (ipykernel)",
   "language": "python",
   "name": "python3"
  },
  "language_info": {
   "codemirror_mode": {
    "name": "ipython",
    "version": 3
   },
   "file_extension": ".py",
   "mimetype": "text/x-python",
   "name": "python",
   "nbconvert_exporter": "python",
   "pygments_lexer": "ipython3",
   "version": "3.11.5"
  }
 },
 "nbformat": 4,
 "nbformat_minor": 5
}
