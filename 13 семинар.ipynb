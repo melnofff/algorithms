{
 "cells": [
  {
   "cell_type": "markdown",
   "id": "bfb3aac6",
   "metadata": {},
   "source": [
    "1) Реализовать простейший динамический массив, поддерживающий добавление элемента в конец массива при помощи метода append(e).\n",
    "Также должны поддерживаться следующие операции:\n",
    "•\tизвлечение элемента по индексу;\n",
    "•\tустанавка нового значения по индексу;\n",
    "•\tполучение текущей длины массива.\n"
   ]
  },
  {
   "cell_type": "code",
   "execution_count": 1,
   "id": "583549a1",
   "metadata": {},
   "outputs": [
    {
     "name": "stdout",
     "output_type": "stream",
     "text": [
      "2\n",
      "5\n",
      "3\n"
     ]
    }
   ],
   "source": [
    "class DynamicArray:\n",
    "    def __init__(self):\n",
    "        self.array = []\n",
    "        self.length = 0\n",
    "\n",
    "    def append(self, element):\n",
    "        self.array.append(element)\n",
    "        self.length += 1\n",
    "\n",
    "    def get(self, index):\n",
    "        if 0 <= index < self.length:\n",
    "            return self.array[index]\n",
    "        else:\n",
    "            return None\n",
    "\n",
    "    def set(self, index, new_value):\n",
    "        if 0 <= index < self.length:\n",
    "            self.array[index] = new_value\n",
    "        else:\n",
    "            raise IndexError(\"Index out of range\")\n",
    "\n",
    "    def get_length(self):\n",
    "        return self.length\n",
    "\n",
    "# Пример использования\n",
    "da = DynamicArray()\n",
    "da.append(1)\n",
    "da.append(2)\n",
    "da.append(3)\n",
    "\n",
    "print(da.get(1))  # Вывод: 2\n",
    "\n",
    "da.set(1, 5)\n",
    "print(da.get(1))  # Вывод: 5\n",
    "\n",
    "print(da.get_length())  # Вывод: 3\n"
   ]
  },
  {
   "cell_type": "markdown",
   "id": "06b1f312",
   "metadata": {},
   "source": [
    "1.1) Добавить реализацию удаления элемента из любого места массива и поддержку корректного вывода массива при помощи функции print."
   ]
  },
  {
   "cell_type": "code",
   "execution_count": 3,
   "id": "ed783449",
   "metadata": {},
   "outputs": [
    {
     "name": "stdout",
     "output_type": "stream",
     "text": [
      "[1, 2, 3]\n",
      "[1, 3]\n"
     ]
    }
   ],
   "source": [
    "class DynamicArray:\n",
    "    def __init__(self):\n",
    "        self.array = []\n",
    "        self.length = 0\n",
    "\n",
    "    def append(self, element):\n",
    "        self.array.append(element)\n",
    "        self.length += 1\n",
    "\n",
    "    def get(self, index):\n",
    "        if 0 <= index < self.length:\n",
    "            return self.array[index]\n",
    "        else:\n",
    "            return None\n",
    "\n",
    "    def set(self, index, new_value):\n",
    "        if 0 <= index < self.length:\n",
    "            self.array[index] = new_value\n",
    "        else:\n",
    "            raise IndexError(\"Index out of range\")\n",
    "\n",
    "    def delete(self, index):\n",
    "        if 0 <= index < self.length:\n",
    "            del self.array[index]\n",
    "            self.length -= 1\n",
    "        else:\n",
    "            raise IndexError(\"Index out of range\")\n",
    "\n",
    "    def __str__(self):\n",
    "        return str(self.array)\n",
    "\n",
    "# Пример использования\n",
    "da = DynamicArray()\n",
    "da.append(1)\n",
    "da.append(2)\n",
    "da.append(3)\n",
    "\n",
    "print(da)  # Вывод: [1, 2, 3]\n",
    "\n",
    "da.delete(1)\n",
    "print(da)  # Вывод: [1, 3]\n"
   ]
  },
  {
   "cell_type": "markdown",
   "id": "5ecbc237",
   "metadata": {},
   "source": [
    "2) Реализовать генератор, который возвращает значение поочередно извлекаемое из конца двух очередей (в качестве очереди используется deque из collections). Если очередь из которой извлекается элемент пуста - генератор заканчивает работу."
   ]
  },
  {
   "cell_type": "code",
   "execution_count": 4,
   "id": "68f512ab",
   "metadata": {},
   "outputs": [
    {
     "name": "stdout",
     "output_type": "stream",
     "text": [
      "3\n",
      "6\n",
      "2\n",
      "5\n",
      "1\n",
      "4\n"
     ]
    }
   ],
   "source": [
    "from collections import deque\n",
    "\n",
    "def alternating_deque_values(queue1, queue2):\n",
    "    while queue1 and queue2:\n",
    "        yield queue1.pop()\n",
    "        yield queue2.pop()\n",
    "\n",
    "# Пример использования\n",
    "queue1 = deque([1, 2, 3])\n",
    "queue2 = deque([4, 5, 6])\n",
    "\n",
    "for value in alternating_deque_values(queue1, queue2):\n",
    "    print(value)\n"
   ]
  },
  {
   "cell_type": "markdown",
   "id": "3ec12a09",
   "metadata": {},
   "source": [
    "3) Реализовать классы с медодом action():\n",
    "    \n",
    "    \n",
    "а) Класс Pump - в методе action() извлекает очередное значение из генератора и помещает значение в очередь (очередь передается в конструктор).\n",
    "\n",
    "\n",
    "b) Класс MultiAction - при вызове метода action() n раз вызвает метод action() класса, переданного в конструкторе. Число n также определяется в конструкторе.\n",
    "\n",
    "\n",
    "c) Класс MultiPump - в методе action() извлекает очередное значение из генератора и помещает значение в одну из очередей (очереди передается в конструкторе); очереди , в которые помещаются очередные значения, меняются по порядку.\n"
   ]
  },
  {
   "cell_type": "code",
   "execution_count": 5,
   "id": "85e41ff5",
   "metadata": {},
   "outputs": [
    {
     "name": "stdout",
     "output_type": "stream",
     "text": [
      "deque([1, 3])\n",
      "deque([2, 4])\n"
     ]
    }
   ],
   "source": [
    "from collections import deque\n",
    "\n",
    "class Pump:\n",
    "    def __init__(self, queue, generator):\n",
    "        self.queue = queue\n",
    "        self.generator = generator\n",
    "\n",
    "    def action(self):\n",
    "        try:\n",
    "            value = next(self.generator)\n",
    "            self.queue.append(value)\n",
    "        except StopIteration:\n",
    "            print(\"Generator is empty\")\n",
    "\n",
    "class MultiAction:\n",
    "    def __init__(self, obj, n):\n",
    "        self.obj = obj\n",
    "        self.n = n\n",
    "\n",
    "    def action(self):\n",
    "        for _ in range(self.n):\n",
    "            self.obj.action()\n",
    "\n",
    "class MultiPump:\n",
    "    def __init__(self, queues, generator):\n",
    "        self.queues = queues\n",
    "        self.generator = generator\n",
    "        self.current_queue_index = 0\n",
    "\n",
    "    def action(self):\n",
    "        try:\n",
    "            value = next(self.generator)\n",
    "            self.queues[self.current_queue_index].append(value)\n",
    "            self.current_queue_index = (self.current_queue_index + 1) % len(self.queues)\n",
    "        except StopIteration:\n",
    "            print(\"Generator is empty\")\n",
    "\n",
    "# Пример использования\n",
    "queue1 = deque()\n",
    "queue2 = deque()\n",
    "generator = (i for i in range(1, 6))\n",
    "\n",
    "pump1 = Pump(queue1, generator)\n",
    "pump2 = Pump(queue2, generator)\n",
    "\n",
    "multi_pump = MultiPump([queue1, queue2], generator)\n",
    "multi_action = MultiAction(multi_pump, 4)\n",
    "\n",
    "multi_action.action()\n",
    "\n",
    "print(queue1)\n",
    "print(queue2)\n"
   ]
  },
  {
   "cell_type": "markdown",
   "id": "3038c1fe",
   "metadata": {},
   "source": [
    "4) При помощи GenFromQ, Pump реализовать систему опработки сообщений. Сообщения создаются генератором сообщений возвращающим случайным образорм одно из сообщений. Сообщения из трех генераторов закачиваются в три очереди при помощи классов Pump, далее при помощи GenFromQ и Pump объединяются в одну очередь и выводятся на экран (можно реализовать при помощи класса с action и вызываемого при помощи MultiPump).\n",
    "\n"
   ]
  },
  {
   "cell_type": "code",
   "execution_count": 6,
   "id": "77c38e07",
   "metadata": {},
   "outputs": [
    {
     "ename": "TypeError",
     "evalue": "'GenFromQ' object is not an iterator",
     "output_type": "error",
     "traceback": [
      "\u001b[1;31m---------------------------------------------------------------------------\u001b[0m",
      "\u001b[1;31mTypeError\u001b[0m                                 Traceback (most recent call last)",
      "Cell \u001b[1;32mIn[6], line 57\u001b[0m\n\u001b[0;32m     54\u001b[0m pump3\u001b[38;5;241m.\u001b[39maction()\n\u001b[0;32m     56\u001b[0m \u001b[38;5;66;03m# Объединяем сообщения из трех очередей в одну\u001b[39;00m\n\u001b[1;32m---> 57\u001b[0m multi_pump\u001b[38;5;241m.\u001b[39maction()\n\u001b[0;32m     59\u001b[0m \u001b[38;5;66;03m# Выводим сообщения на экран\u001b[39;00m\n\u001b[0;32m     60\u001b[0m \u001b[38;5;28;01mwhile\u001b[39;00m combined_queue:\n",
      "Cell \u001b[1;32mIn[5], line 32\u001b[0m, in \u001b[0;36mMultiPump.action\u001b[1;34m(self)\u001b[0m\n\u001b[0;32m     30\u001b[0m \u001b[38;5;28;01mdef\u001b[39;00m \u001b[38;5;21maction\u001b[39m(\u001b[38;5;28mself\u001b[39m):\n\u001b[0;32m     31\u001b[0m     \u001b[38;5;28;01mtry\u001b[39;00m:\n\u001b[1;32m---> 32\u001b[0m         value \u001b[38;5;241m=\u001b[39m \u001b[38;5;28mnext\u001b[39m(\u001b[38;5;28mself\u001b[39m\u001b[38;5;241m.\u001b[39mgenerator)\n\u001b[0;32m     33\u001b[0m         \u001b[38;5;28mself\u001b[39m\u001b[38;5;241m.\u001b[39mqueues[\u001b[38;5;28mself\u001b[39m\u001b[38;5;241m.\u001b[39mcurrent_queue_index]\u001b[38;5;241m.\u001b[39mappend(value)\n\u001b[0;32m     34\u001b[0m         \u001b[38;5;28mself\u001b[39m\u001b[38;5;241m.\u001b[39mcurrent_queue_index \u001b[38;5;241m=\u001b[39m (\u001b[38;5;28mself\u001b[39m\u001b[38;5;241m.\u001b[39mcurrent_queue_index \u001b[38;5;241m+\u001b[39m \u001b[38;5;241m1\u001b[39m) \u001b[38;5;241m%\u001b[39m \u001b[38;5;28mlen\u001b[39m(\u001b[38;5;28mself\u001b[39m\u001b[38;5;241m.\u001b[39mqueues)\n",
      "\u001b[1;31mTypeError\u001b[0m: 'GenFromQ' object is not an iterator"
     ]
    }
   ],
   "source": [
    "import random\n",
    "from collections import deque\n",
    "\n",
    "class GenFromQ:\n",
    "    def __init__(self, generator):\n",
    "        self.generator = generator\n",
    "\n",
    "    def action(self, queue):\n",
    "        try:\n",
    "            value = next(self.generator)\n",
    "            queue.append(value)\n",
    "        except StopIteration:\n",
    "            print(\"Generator is empty\")\n",
    "\n",
    "class Pump:\n",
    "    def __init__(self, queue, generator):\n",
    "        self.queue = queue\n",
    "        self.generator = generator\n",
    "\n",
    "    def action(self):\n",
    "        try:\n",
    "            value = next(self.generator)\n",
    "            self.queue.append(value)\n",
    "        except StopIteration:\n",
    "            print(\"Generator is empty\")\n",
    "\n",
    "# Генератор случайных сообщений\n",
    "def random_message_generator():\n",
    "    messages = [\"Hello\", \"How are you?\", \"Good morning\", \"Nice to meet you\", \"Have a nice day\"]\n",
    "    while True:\n",
    "        yield random.choice(messages)\n",
    "\n",
    "# Создаем три очереди и генераторы сообщений\n",
    "queue1 = deque()\n",
    "queue2 = deque()\n",
    "queue3 = deque()\n",
    "\n",
    "generator1 = random_message_generator()\n",
    "generator2 = random_message_generator()\n",
    "generator3 = random_message_generator()\n",
    "\n",
    "# Создаем объекты класса Pump для каждой очереди и генератора\n",
    "pump1 = Pump(queue1, generator1)\n",
    "pump2 = Pump(queue2, generator2)\n",
    "pump3 = Pump(queue3, generator3)\n",
    "\n",
    "# Объединяем сообщения из трех очередей в одну\n",
    "combined_queue = deque()\n",
    "multi_pump = MultiPump([queue1, queue2, queue3], GenFromQ(combined_queue))\n",
    "\n",
    "# Помещаем сообщения в очереди\n",
    "pump1.action()\n",
    "pump2.action()\n",
    "pump3.action()\n",
    "\n",
    "# Объединяем сообщения из трех очередей в одну\n",
    "multi_pump.action()\n",
    "\n",
    "# Выводим сообщения на экран\n",
    "while combined_queue:\n",
    "    print(combined_queue.popleft())\n"
   ]
  },
  {
   "cell_type": "code",
   "execution_count": null,
   "id": "955fc30b",
   "metadata": {},
   "outputs": [],
   "source": []
  }
 ],
 "metadata": {
  "kernelspec": {
   "display_name": "Python 3 (ipykernel)",
   "language": "python",
   "name": "python3"
  },
  "language_info": {
   "codemirror_mode": {
    "name": "ipython",
    "version": 3
   },
   "file_extension": ".py",
   "mimetype": "text/x-python",
   "name": "python",
   "nbconvert_exporter": "python",
   "pygments_lexer": "ipython3",
   "version": "3.11.4"
  }
 },
 "nbformat": 4,
 "nbformat_minor": 5
}
